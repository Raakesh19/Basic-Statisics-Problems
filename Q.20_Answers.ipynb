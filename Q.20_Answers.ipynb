{
 "cells": [
  {
   "cell_type": "markdown",
   "id": "a2b52304",
   "metadata": {},
   "source": [
    "### Q 20) Calculate probability from the given dataset for the below cases**\n",
    "\n",
    "### Data _set: Cars.csv**\n",
    "### Calculate the probability of MPG  of Cars for the below cases**\n",
    "### MPG <- Cars$MPG\n",
    "\n"
   ]
  },
  {
   "cell_type": "code",
   "execution_count": null,
   "id": "6eaa1079",
   "metadata": {},
   "outputs": [],
   "source": [
    "## a.P(MPG>38)\n",
    "## b.P(MPG<40)\n",
    "## c.P (20<MPG<50)"
   ]
  },
  {
   "cell_type": "code",
   "execution_count": 1,
   "id": "59f4a077",
   "metadata": {},
   "outputs": [],
   "source": [
    "import pandas as pd\n",
    "from scipy import stats "
   ]
  },
  {
   "cell_type": "code",
   "execution_count": 3,
   "id": "659d659f",
   "metadata": {},
   "outputs": [],
   "source": [
    "cars_data=pd.read_csv('Cars.csv')"
   ]
  },
  {
   "cell_type": "code",
   "execution_count": 30,
   "id": "e70dce01",
   "metadata": {},
   "outputs": [
    {
     "data": {
      "text/html": [
       "<div>\n",
       "<style scoped>\n",
       "    .dataframe tbody tr th:only-of-type {\n",
       "        vertical-align: middle;\n",
       "    }\n",
       "\n",
       "    .dataframe tbody tr th {\n",
       "        vertical-align: top;\n",
       "    }\n",
       "\n",
       "    .dataframe thead th {\n",
       "        text-align: right;\n",
       "    }\n",
       "</style>\n",
       "<table border=\"1\" class=\"dataframe\">\n",
       "  <thead>\n",
       "    <tr style=\"text-align: right;\">\n",
       "      <th></th>\n",
       "      <th>MPG</th>\n",
       "    </tr>\n",
       "  </thead>\n",
       "  <tbody>\n",
       "    <tr>\n",
       "      <th>0</th>\n",
       "      <td>53.700681</td>\n",
       "    </tr>\n",
       "    <tr>\n",
       "      <th>1</th>\n",
       "      <td>50.013401</td>\n",
       "    </tr>\n",
       "    <tr>\n",
       "      <th>2</th>\n",
       "      <td>50.013401</td>\n",
       "    </tr>\n",
       "    <tr>\n",
       "      <th>3</th>\n",
       "      <td>45.696322</td>\n",
       "    </tr>\n",
       "    <tr>\n",
       "      <th>4</th>\n",
       "      <td>50.504232</td>\n",
       "    </tr>\n",
       "  </tbody>\n",
       "</table>\n",
       "</div>"
      ],
      "text/plain": [
       "         MPG\n",
       "0  53.700681\n",
       "1  50.013401\n",
       "2  50.013401\n",
       "3  45.696322\n",
       "4  50.504232"
      ]
     },
     "execution_count": 30,
     "metadata": {},
     "output_type": "execute_result"
    }
   ],
   "source": [
    "cars_data[['MPG']].head()"
   ]
  },
  {
   "cell_type": "markdown",
   "id": "7e079cf9",
   "metadata": {},
   "source": [
    "**a.P(MPG>38)**"
   ]
  },
  {
   "cell_type": "code",
   "execution_count": 5,
   "id": "a9805777",
   "metadata": {
    "scrolled": true
   },
   "outputs": [
    {
     "data": {
      "text/plain": [
       "34.422075728024666"
      ]
     },
     "execution_count": 5,
     "metadata": {},
     "output_type": "execute_result"
    }
   ],
   "source": [
    "cars_data.MPG.mean()"
   ]
  },
  {
   "cell_type": "code",
   "execution_count": 7,
   "id": "32be5c97",
   "metadata": {},
   "outputs": [
    {
     "data": {
      "text/plain": [
       "9.131444731795982"
      ]
     },
     "execution_count": 7,
     "metadata": {},
     "output_type": "execute_result"
    }
   ],
   "source": [
    "cars_data.MPG.std()"
   ]
  },
  {
   "cell_type": "code",
   "execution_count": 12,
   "id": "bb7bf8db",
   "metadata": {},
   "outputs": [
    {
     "data": {
      "text/plain": [
       "0.6716393567181147"
      ]
     },
     "execution_count": 12,
     "metadata": {},
     "output_type": "execute_result"
    }
   ],
   "source": [
    "stats.norm.cdf(x=38,loc=34,scale=9)"
   ]
  },
  {
   "cell_type": "code",
   "execution_count": 23,
   "id": "46b32b9a",
   "metadata": {},
   "outputs": [
    {
     "data": {
      "text/plain": [
       "0.3283606432818853"
      ]
     },
     "execution_count": 23,
     "metadata": {},
     "output_type": "execute_result"
    }
   ],
   "source": [
    "1-stats.norm.cdf(x=38,loc=34,scale=9)"
   ]
  },
  {
   "cell_type": "markdown",
   "id": "ef72d9e7",
   "metadata": {},
   "source": [
    "**The probability of MPG>38 is 0.328**"
   ]
  },
  {
   "cell_type": "markdown",
   "id": "1e60cb2f",
   "metadata": {},
   "source": [
    "**b.P(MPG<40)**"
   ]
  },
  {
   "cell_type": "code",
   "execution_count": 25,
   "id": "5b0c62c7",
   "metadata": {},
   "outputs": [
    {
     "data": {
      "text/plain": [
       "0.7475074624530771"
      ]
     },
     "execution_count": 25,
     "metadata": {},
     "output_type": "execute_result"
    }
   ],
   "source": [
    "stats.norm.cdf(x=40,loc=34,scale=9)"
   ]
  },
  {
   "cell_type": "markdown",
   "id": "8ad30f03",
   "metadata": {},
   "source": [
    "**The probability of MPG<40 is 0.747**"
   ]
  },
  {
   "cell_type": "markdown",
   "id": "ec854212",
   "metadata": {},
   "source": [
    "**c.P (20<MPG<50)**"
   ]
  },
  {
   "cell_type": "code",
   "execution_count": 32,
   "id": "f143e167",
   "metadata": {
    "scrolled": true
   },
   "outputs": [
    {
     "data": {
      "text/plain": [
       "0.9023729130838278"
      ]
     },
     "execution_count": 32,
     "metadata": {},
     "output_type": "execute_result"
    }
   ],
   "source": [
    "stats.norm.cdf(x=50,loc=34,scale=9) - stats.norm.cdf(x=20,loc=34,scale=9) "
   ]
  },
  {
   "cell_type": "markdown",
   "id": "a340424e",
   "metadata": {},
   "source": [
    "**The probability of (20<MPG<50) is 0.90.**"
   ]
  },
  {
   "cell_type": "code",
   "execution_count": null,
   "id": "ec8494db",
   "metadata": {},
   "outputs": [],
   "source": []
  },
  {
   "cell_type": "code",
   "execution_count": null,
   "id": "e5e70bb5",
   "metadata": {},
   "outputs": [],
   "source": []
  },
  {
   "cell_type": "code",
   "execution_count": null,
   "id": "b2b9ab1b",
   "metadata": {},
   "outputs": [],
   "source": []
  },
  {
   "cell_type": "code",
   "execution_count": null,
   "id": "d3b323e2",
   "metadata": {},
   "outputs": [],
   "source": []
  },
  {
   "cell_type": "code",
   "execution_count": null,
   "id": "0037a362",
   "metadata": {},
   "outputs": [],
   "source": []
  }
 ],
 "metadata": {
  "kernelspec": {
   "display_name": "Python 3 (ipykernel)",
   "language": "python",
   "name": "python3"
  },
  "language_info": {
   "codemirror_mode": {
    "name": "ipython",
    "version": 3
   },
   "file_extension": ".py",
   "mimetype": "text/x-python",
   "name": "python",
   "nbconvert_exporter": "python",
   "pygments_lexer": "ipython3",
   "version": "3.9.12"
  }
 },
 "nbformat": 4,
 "nbformat_minor": 5
}
