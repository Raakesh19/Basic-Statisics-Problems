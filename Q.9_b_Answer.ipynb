{
 "cells": [
  {
   "cell_type": "markdown",
   "id": "cb97dabe",
   "metadata": {},
   "source": [
    "## Q9) Calculate Skewness, Kurtosis & draw inferences on the following data\n",
    "   ### SP and Weight(WT)\n",
    "### Use Q9_b.csv\n"
   ]
  },
  {
   "cell_type": "code",
   "execution_count": 1,
   "id": "cffe6089",
   "metadata": {},
   "outputs": [],
   "source": [
    "import pandas as pd\n",
    "import warnings\n",
    "warnings.filterwarnings('ignore')"
   ]
  },
  {
   "cell_type": "code",
   "execution_count": 3,
   "id": "b01148ca",
   "metadata": {},
   "outputs": [],
   "source": [
    "data=pd.read_csv('Q9_b.csv')"
   ]
  },
  {
   "cell_type": "code",
   "execution_count": 4,
   "id": "0306630c",
   "metadata": {
    "scrolled": true
   },
   "outputs": [
    {
     "data": {
      "text/html": [
       "<div>\n",
       "<style scoped>\n",
       "    .dataframe tbody tr th:only-of-type {\n",
       "        vertical-align: middle;\n",
       "    }\n",
       "\n",
       "    .dataframe tbody tr th {\n",
       "        vertical-align: top;\n",
       "    }\n",
       "\n",
       "    .dataframe thead th {\n",
       "        text-align: right;\n",
       "    }\n",
       "</style>\n",
       "<table border=\"1\" class=\"dataframe\">\n",
       "  <thead>\n",
       "    <tr style=\"text-align: right;\">\n",
       "      <th></th>\n",
       "      <th>Unnamed: 0</th>\n",
       "      <th>SP</th>\n",
       "      <th>WT</th>\n",
       "    </tr>\n",
       "  </thead>\n",
       "  <tbody>\n",
       "    <tr>\n",
       "      <th>0</th>\n",
       "      <td>1</td>\n",
       "      <td>104.185353</td>\n",
       "      <td>28.762059</td>\n",
       "    </tr>\n",
       "    <tr>\n",
       "      <th>1</th>\n",
       "      <td>2</td>\n",
       "      <td>105.461264</td>\n",
       "      <td>30.466833</td>\n",
       "    </tr>\n",
       "    <tr>\n",
       "      <th>2</th>\n",
       "      <td>3</td>\n",
       "      <td>105.461264</td>\n",
       "      <td>30.193597</td>\n",
       "    </tr>\n",
       "    <tr>\n",
       "      <th>3</th>\n",
       "      <td>4</td>\n",
       "      <td>113.461264</td>\n",
       "      <td>30.632114</td>\n",
       "    </tr>\n",
       "    <tr>\n",
       "      <th>4</th>\n",
       "      <td>5</td>\n",
       "      <td>104.461264</td>\n",
       "      <td>29.889149</td>\n",
       "    </tr>\n",
       "  </tbody>\n",
       "</table>\n",
       "</div>"
      ],
      "text/plain": [
       "   Unnamed: 0          SP         WT\n",
       "0           1  104.185353  28.762059\n",
       "1           2  105.461264  30.466833\n",
       "2           3  105.461264  30.193597\n",
       "3           4  113.461264  30.632114\n",
       "4           5  104.461264  29.889149"
      ]
     },
     "execution_count": 4,
     "metadata": {},
     "output_type": "execute_result"
    }
   ],
   "source": [
    "data.head()"
   ]
  },
  {
   "cell_type": "markdown",
   "id": "09858270",
   "metadata": {},
   "source": [
    "# Skewness:"
   ]
  },
  {
   "cell_type": "code",
   "execution_count": 7,
   "id": "f305e791",
   "metadata": {},
   "outputs": [
    {
     "data": {
      "text/plain": [
       "1.6114501961773586"
      ]
     },
     "execution_count": 7,
     "metadata": {},
     "output_type": "execute_result"
    }
   ],
   "source": [
    "data.SP.skew()"
   ]
  },
  {
   "cell_type": "markdown",
   "id": "783fb48f",
   "metadata": {},
   "source": [
    "  **The skewness for SP is 1.611. This means that the skewness is not symmetrical around mean and it is not noramally distributed.**"
   ]
  },
  {
   "cell_type": "code",
   "execution_count": 8,
   "id": "69fb4f64",
   "metadata": {},
   "outputs": [
    {
     "data": {
      "text/plain": [
       "-0.6147533255357768"
      ]
     },
     "execution_count": 8,
     "metadata": {},
     "output_type": "execute_result"
    }
   ],
   "source": [
    "data.WT.skew()"
   ]
  },
  {
   "cell_type": "markdown",
   "id": "d4615144",
   "metadata": {},
   "source": [
    "**The skewness for WT is -0.6147. This means that the skewness is not symmetrical around mean and it is not noramally distributed.**"
   ]
  },
  {
   "cell_type": "markdown",
   "id": "030e64b4",
   "metadata": {},
   "source": [
    "# Kurtosis:"
   ]
  },
  {
   "cell_type": "code",
   "execution_count": 6,
   "id": "2bddbb58",
   "metadata": {},
   "outputs": [
    {
     "data": {
      "text/plain": [
       "2.9773289437871835"
      ]
     },
     "execution_count": 6,
     "metadata": {},
     "output_type": "execute_result"
    }
   ],
   "source": [
    "data.SP.kurtosis()"
   ]
  },
  {
   "cell_type": "markdown",
   "id": "6d6887b2",
   "metadata": {},
   "source": [
    "**The kurtosis for SP is 2.97,this means that there are less outliers.**  "
   ]
  },
  {
   "cell_type": "code",
   "execution_count": 11,
   "id": "3beff599",
   "metadata": {},
   "outputs": [
    {
     "data": {
      "text/plain": [
       "0.9502914910300326"
      ]
     },
     "execution_count": 11,
     "metadata": {},
     "output_type": "execute_result"
    }
   ],
   "source": [
    "data.WT.kurtosis()"
   ]
  },
  {
   "cell_type": "markdown",
   "id": "4d8a61b3",
   "metadata": {},
   "source": [
    "**The kurtosis for WT is 0.9502,this means that there are less outliers.**  "
   ]
  },
  {
   "cell_type": "code",
   "execution_count": null,
   "id": "e0d74fa3",
   "metadata": {},
   "outputs": [],
   "source": []
  }
 ],
 "metadata": {
  "kernelspec": {
   "display_name": "Python 3 (ipykernel)",
   "language": "python",
   "name": "python3"
  },
  "language_info": {
   "codemirror_mode": {
    "name": "ipython",
    "version": 3
   },
   "file_extension": ".py",
   "mimetype": "text/x-python",
   "name": "python",
   "nbconvert_exporter": "python",
   "pygments_lexer": "ipython3",
   "version": "3.9.12"
  }
 },
 "nbformat": 4,
 "nbformat_minor": 5
}
