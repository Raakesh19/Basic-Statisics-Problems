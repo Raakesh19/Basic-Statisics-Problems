{
 "cells": [
  {
   "cell_type": "markdown",
   "id": "170960c8",
   "metadata": {},
   "source": [
    "## Q9) Calculate Skewness, Kurtosis & draw inferences on the following data\n",
    "### Cars speed and distance \n",
    "### Use Q9_a.csv\n"
   ]
  },
  {
   "cell_type": "code",
   "execution_count": 1,
   "id": "3f76a057",
   "metadata": {},
   "outputs": [],
   "source": [
    "import pandas as pd\n",
    "import warnings\n",
    "warnings.filterwarnings('ignore')"
   ]
  },
  {
   "cell_type": "code",
   "execution_count": 2,
   "id": "fe5f3e9f",
   "metadata": {},
   "outputs": [],
   "source": [
    "data = pd.read_csv('Q9_a.csv')"
   ]
  },
  {
   "cell_type": "code",
   "execution_count": 3,
   "id": "660d5fd7",
   "metadata": {},
   "outputs": [
    {
     "data": {
      "text/html": [
       "<div>\n",
       "<style scoped>\n",
       "    .dataframe tbody tr th:only-of-type {\n",
       "        vertical-align: middle;\n",
       "    }\n",
       "\n",
       "    .dataframe tbody tr th {\n",
       "        vertical-align: top;\n",
       "    }\n",
       "\n",
       "    .dataframe thead th {\n",
       "        text-align: right;\n",
       "    }\n",
       "</style>\n",
       "<table border=\"1\" class=\"dataframe\">\n",
       "  <thead>\n",
       "    <tr style=\"text-align: right;\">\n",
       "      <th></th>\n",
       "      <th>Index</th>\n",
       "      <th>speed</th>\n",
       "      <th>dist</th>\n",
       "    </tr>\n",
       "  </thead>\n",
       "  <tbody>\n",
       "    <tr>\n",
       "      <th>0</th>\n",
       "      <td>1</td>\n",
       "      <td>4</td>\n",
       "      <td>2</td>\n",
       "    </tr>\n",
       "    <tr>\n",
       "      <th>1</th>\n",
       "      <td>2</td>\n",
       "      <td>4</td>\n",
       "      <td>10</td>\n",
       "    </tr>\n",
       "    <tr>\n",
       "      <th>2</th>\n",
       "      <td>3</td>\n",
       "      <td>7</td>\n",
       "      <td>4</td>\n",
       "    </tr>\n",
       "    <tr>\n",
       "      <th>3</th>\n",
       "      <td>4</td>\n",
       "      <td>7</td>\n",
       "      <td>22</td>\n",
       "    </tr>\n",
       "    <tr>\n",
       "      <th>4</th>\n",
       "      <td>5</td>\n",
       "      <td>8</td>\n",
       "      <td>16</td>\n",
       "    </tr>\n",
       "  </tbody>\n",
       "</table>\n",
       "</div>"
      ],
      "text/plain": [
       "   Index  speed  dist\n",
       "0      1      4     2\n",
       "1      2      4    10\n",
       "2      3      7     4\n",
       "3      4      7    22\n",
       "4      5      8    16"
      ]
     },
     "execution_count": 3,
     "metadata": {},
     "output_type": "execute_result"
    }
   ],
   "source": [
    "data.head()"
   ]
  },
  {
   "cell_type": "markdown",
   "id": "dad9e7f1",
   "metadata": {},
   "source": [
    "# Skewness:"
   ]
  },
  {
   "cell_type": "code",
   "execution_count": 4,
   "id": "c6390598",
   "metadata": {
    "scrolled": true
   },
   "outputs": [
    {
     "data": {
      "text/plain": [
       "-0.11750986144663393"
      ]
     },
     "execution_count": 4,
     "metadata": {},
     "output_type": "execute_result"
    }
   ],
   "source": [
    "data.speed.skew()"
   ]
  },
  {
   "cell_type": "markdown",
   "id": "6114a3ef",
   "metadata": {},
   "source": [
    "### The skewness of the car's speed is -0.1175098. This means that, the skewness is moderately symmetrical around mean."
   ]
  },
  {
   "cell_type": "code",
   "execution_count": 5,
   "id": "4a44b77c",
   "metadata": {
    "scrolled": true
   },
   "outputs": [
    {
     "data": {
      "text/plain": [
       "0.8068949601674215"
      ]
     },
     "execution_count": 5,
     "metadata": {},
     "output_type": "execute_result"
    }
   ],
   "source": [
    "data.dist.skew()"
   ]
  },
  {
   "cell_type": "markdown",
   "id": "0809da04",
   "metadata": {},
   "source": [
    "### The skewness of the car's speed is 0.806894. This means that, the skewness is not symmetrical around mean and not normally distributed. As, any value> +- 0.5 is not normally distributed."
   ]
  },
  {
   "cell_type": "markdown",
   "id": "5e661d7a",
   "metadata": {},
   "source": [
    "# Kurtosis:"
   ]
  },
  {
   "cell_type": "code",
   "execution_count": 6,
   "id": "7a931afc",
   "metadata": {
    "scrolled": true
   },
   "outputs": [
    {
     "data": {
      "text/plain": [
       "-0.5089944204057617"
      ]
     },
     "execution_count": 6,
     "metadata": {},
     "output_type": "execute_result"
    }
   ],
   "source": [
    "data.speed.kurtosis()"
   ]
  },
  {
   "cell_type": "markdown",
   "id": "4ea1698c",
   "metadata": {},
   "source": [
    "### The kurtosis is less than 3,this means that there are less outliers in the car's speed."
   ]
  },
  {
   "cell_type": "code",
   "execution_count": 7,
   "id": "1b6486fd",
   "metadata": {},
   "outputs": [
    {
     "data": {
      "text/plain": [
       "0.4050525816795765"
      ]
     },
     "execution_count": 7,
     "metadata": {},
     "output_type": "execute_result"
    }
   ],
   "source": [
    "data.dist.kurtosis()"
   ]
  },
  {
   "cell_type": "markdown",
   "id": "7442a836",
   "metadata": {},
   "source": [
    "### The kurtosis is less than 3,this means that there are less outliers in the car's distance."
   ]
  }
 ],
 "metadata": {
  "kernelspec": {
   "display_name": "Python 3 (ipykernel)",
   "language": "python",
   "name": "python3"
  },
  "language_info": {
   "codemirror_mode": {
    "name": "ipython",
    "version": 3
   },
   "file_extension": ".py",
   "mimetype": "text/x-python",
   "name": "python",
   "nbconvert_exporter": "python",
   "pygments_lexer": "ipython3",
   "version": "3.9.12"
  }
 },
 "nbformat": 4,
 "nbformat_minor": 5
}
